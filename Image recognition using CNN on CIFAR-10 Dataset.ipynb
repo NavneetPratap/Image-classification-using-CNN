{
  "nbformat": 4,
  "nbformat_minor": 0,
  "metadata": {
    "colab": {
      "provenance": []
    },
    "kernelspec": {
      "name": "python3",
      "display_name": "Python 3"
    },
    "language_info": {
      "name": "python"
    }
  },
  "cells": [
    {
      "cell_type": "markdown",
      "source": [
        "# Image recognition using CNN on CIFAR-10 Dataset\n"
      ],
      "metadata": {
        "id": "rr0Se2DgcQeH"
      }
    },
    {
      "cell_type": "markdown",
      "source": [
        "importing necessary libraries\n"
      ],
      "metadata": {
        "id": "FMAHdG6EcdlF"
      }
    },
    {
      "cell_type": "code",
      "execution_count": 1,
      "metadata": {
        "id": "0PATUc2VZ9do"
      },
      "outputs": [],
      "source": [
        "from tensorflow.keras import Sequential, datasets\n",
        "from tensorflow.keras.layers import Dense, Flatten\n",
        "from tensorflow.keras.layers import Conv2D, MaxPooling2D\n",
        "import numpy as np\n",
        "from matplotlib import pyplot as plt\n",
        "import os"
      ]
    },
    {
      "cell_type": "code",
      "source": [
        "os.environ['TF_XLA_FLAGS']='--tf_xla_enable_xla_devices'"
      ],
      "metadata": {
        "id": "b7rJMxhlp8rj"
      },
      "execution_count": 2,
      "outputs": []
    },
    {
      "cell_type": "markdown",
      "source": [
        "load dataset"
      ],
      "metadata": {
        "id": "DZNeQirCp6Mr"
      }
    },
    {
      "cell_type": "code",
      "source": [
        "(X_train, y_train),(X_test, y_test)=datasets.cifar10.load_data()"
      ],
      "metadata": {
        "colab": {
          "base_uri": "https://localhost:8080/"
        },
        "id": "QXqQjnd0rhRy",
        "outputId": "608df74b-c227-41ce-9ff8-9ee7d363368b"
      },
      "execution_count": 3,
      "outputs": [
        {
          "output_type": "stream",
          "name": "stdout",
          "text": [
            "Downloading data from https://www.cs.toronto.edu/~kriz/cifar-10-python.tar.gz\n",
            "170498071/170498071 [==============================] - 6s 0us/step\n"
          ]
        }
      ]
    },
    {
      "cell_type": "code",
      "source": [
        "X_train.shape"
      ],
      "metadata": {
        "colab": {
          "base_uri": "https://localhost:8080/"
        },
        "id": "87w4xnkLr6A6",
        "outputId": "2c8c474e-0ee7-443d-d86f-7aed20426061"
      },
      "execution_count": 4,
      "outputs": [
        {
          "output_type": "execute_result",
          "data": {
            "text/plain": [
              "(50000, 32, 32, 3)"
            ]
          },
          "metadata": {},
          "execution_count": 4
        }
      ]
    },
    {
      "cell_type": "code",
      "source": [
        "X_test.shape"
      ],
      "metadata": {
        "colab": {
          "base_uri": "https://localhost:8080/"
        },
        "id": "VFj1_LeisBly",
        "outputId": "7809c6ad-5f71-4684-aecc-8435db3a8ca9"
      },
      "execution_count": 5,
      "outputs": [
        {
          "output_type": "execute_result",
          "data": {
            "text/plain": [
              "(10000, 32, 32, 3)"
            ]
          },
          "metadata": {},
          "execution_count": 5
        }
      ]
    },
    {
      "cell_type": "markdown",
      "source": [
        "Reshape"
      ],
      "metadata": {
        "id": "bzZW0fcKsT86"
      }
    },
    {
      "cell_type": "code",
      "source": [
        "y_train=y_train.reshape(-1, )\n",
        "y_train"
      ],
      "metadata": {
        "colab": {
          "base_uri": "https://localhost:8080/"
        },
        "id": "G9MVNMQMsVdj",
        "outputId": "3e0b477a-fbda-4cd5-bb39-14b6eaba1d47"
      },
      "execution_count": 6,
      "outputs": [
        {
          "output_type": "execute_result",
          "data": {
            "text/plain": [
              "array([6, 9, 9, ..., 9, 1, 1], dtype=uint8)"
            ]
          },
          "metadata": {},
          "execution_count": 6
        }
      ]
    },
    {
      "cell_type": "code",
      "source": [
        "y_classes=[\"airplane\", \"automobile\", \"bird\", \"cat\", \"deer\", \"dog\", \"frog\", \"horse\", \"ship\", \"truck\"]"
      ],
      "metadata": {
        "id": "lHgk0vfdsw8C"
      },
      "execution_count": 7,
      "outputs": []
    },
    {
      "cell_type": "code",
      "source": [
        "len(y_classes)"
      ],
      "metadata": {
        "colab": {
          "base_uri": "https://localhost:8080/"
        },
        "id": "ZemBEXP5tQEz",
        "outputId": "8d6d2232-1adf-41fe-ac7e-3727881de2e0"
      },
      "execution_count": 8,
      "outputs": [
        {
          "output_type": "execute_result",
          "data": {
            "text/plain": [
              "10"
            ]
          },
          "metadata": {},
          "execution_count": 8
        }
      ]
    },
    {
      "cell_type": "markdown",
      "source": [
        "Observe dataset"
      ],
      "metadata": {
        "id": "xqelGH9itWJa"
      }
    },
    {
      "cell_type": "code",
      "source": [
        "def showImage(x, y, index):\n",
        "  plt.figure(figsize=(15, 2))\n",
        "  plt.imshow(x[index])\n",
        "  plt.xlabel(y_classes[y[index]])"
      ],
      "metadata": {
        "id": "uFmAs1VataL7"
      },
      "execution_count": 9,
      "outputs": []
    },
    {
      "cell_type": "code",
      "source": [
        "showImage(X_train, y_train, 7)"
      ],
      "metadata": {
        "colab": {
          "base_uri": "https://localhost:8080/",
          "height": 173
        },
        "id": "u8aAqGgwuCRS",
        "outputId": "a2ea455e-3fd9-4727-89e2-4928c6187d54"
      },
      "execution_count": 10,
      "outputs": [
        {
          "output_type": "display_data",
          "data": {
            "text/plain": [
              "<Figure size 1080x144 with 1 Axes>"
            ],
            "image/png": "[encoded data removed]"
          },
          "metadata": {
            "needs_background": "light"
          }
        }
      ]
    },
    {
      "cell_type": "markdown",
      "source": [
        "Normalize dataset"
      ],
      "metadata": {
        "id": "sRWkLWemw8Ic"
      }
    },
    {
      "cell_type": "code",
      "source": [
        "X_train=X_train/255\n",
        "X_test=X_test/255"
      ],
      "metadata": {
        "id": "EeSGiun7w-C7"
      },
      "execution_count": 11,
      "outputs": []
    },
    {
      "cell_type": "markdown",
      "source": [
        "# Build model"
      ],
      "metadata": {
        "id": "Q7TbJbYOxbbr"
      }
    },
    {
      "cell_type": "code",
      "source": [
        "model=Sequential()\n",
        "model.add(Conv2D(filters=32, kernel_size=(3,3), activation=\"relu\", input_shape=(32, 32, 3)))\n",
        "model.add(MaxPooling2D(pool_size=(2, 2)))\n",
        "\n",
        "model.add(Conv2D(filters=64, kernel_size=(4, 4), activation=\"relu\"))\n",
        "model.add(MaxPooling2D(pool_size=(2, 2)))\n",
        "\n",
        "model.add(Flatten())\n",
        "model.add(Dense(units=34, activation=\"relu\"))\n",
        "model.add(Dense(units=10, activation=\"softmax\"))"
      ],
      "metadata": {
        "id": "lgZGlNY9xgaj"
      },
      "execution_count": 12,
      "outputs": []
    },
    {
      "cell_type": "markdown",
      "source": [
        "# Compile model"
      ],
      "metadata": {
        "id": "AWIER9BVzztN"
      }
    },
    {
      "cell_type": "code",
      "source": [
        "model.compile(\n",
        "    optimizer=\"adam\",\n",
        "    loss=\"sparse_categorical_crossentropy\",\n",
        "    metrics=[\"accuracy\"]\n",
        ")"
      ],
      "metadata": {
        "id": "sUb0NYHmz11k"
      },
      "execution_count": 13,
      "outputs": []
    },
    {
      "cell_type": "markdown",
      "source": [
        "## Train model"
      ],
      "metadata": {
        "id": "7krf8yrf0jyj"
      }
    },
    {
      "cell_type": "code",
      "source": [
        "model.fit(X_train, y_train, validation_data=(X_test, y_test), epochs=5)"
      ],
      "metadata": {
        "colab": {
          "base_uri": "https://localhost:8080/"
        },
        "id": "6B7PND720mrM",
        "outputId": "cf48c6d6-05ef-44c4-d52b-bcb8ee502fa9"
      },
      "execution_count": 14,
      "outputs": [
        {
          "output_type": "stream",
          "name": "stdout",
          "text": [
            "Epoch 1/5\n",
            "1563/1563 [==============================] - 95s 60ms/step - loss: 1.5784 - accuracy: 0.4303 - val_loss: 1.3023 - val_accuracy: 0.5326\n",
            "Epoch 2/5\n",
            "1563/1563 [==============================] - 93s 59ms/step - loss: 1.2065 - accuracy: 0.5694 - val_loss: 1.1633 - val_accuracy: 0.5820\n",
            "Epoch 3/5\n",
            "1563/1563 [==============================] - 93s 59ms/step - loss: 1.0560 - accuracy: 0.6284 - val_loss: 1.0115 - val_accuracy: 0.6418\n",
            "Epoch 4/5\n",
            "1563/1563 [==============================] - 93s 60ms/step - loss: 0.9695 - accuracy: 0.6612 - val_loss: 0.9973 - val_accuracy: 0.6489\n",
            "Epoch 5/5\n",
            "1563/1563 [==============================] - 95s 61ms/step - loss: 0.9055 - accuracy: 0.6831 - val_loss: 0.9558 - val_accuracy: 0.6710\n"
          ]
        },
        {
          "output_type": "execute_result",
          "data": {
            "text/plain": [
              "<keras.callbacks.History at 0x7f270ca18a00>"
            ]
          },
          "metadata": {},
          "execution_count": 14
        }
      ]
    },
    {
      "cell_type": "markdown",
      "source": [
        "Make predictions\n"
      ],
      "metadata": {
        "id": "teyrqwp9jtLQ"
      }
    },
    {
      "cell_type": "code",
      "source": [
        "y_prediction = model.predict(X_test)"
      ],
      "metadata": {
        "colab": {
          "base_uri": "https://localhost:8080/"
        },
        "id": "QpQkk69JjvYY",
        "outputId": "1d4166be-8a9b-443c-d43b-f88b4000ea5d"
      },
      "execution_count": 15,
      "outputs": [
        {
          "output_type": "stream",
          "name": "stdout",
          "text": [
            "313/313 [==============================] - 5s 15ms/step\n"
          ]
        }
      ]
    },
    {
      "cell_type": "code",
      "source": [
        "y_prediction=[np.argmax(arr) for arr in y_prediction]\n",
        "y_prediction"
      ],
      "metadata": {
        "colab": {
          "base_uri": "https://localhost:8080/"
        },
        "id": "SBk5FH74j6fY",
        "outputId": "ca35c2db-b99c-4c3d-90cc-fe6bfb10f7cd"
      },
      "execution_count": 16,
      "outputs": [
        {
          "output_type": "execute_result",
          "data": {
            "text/plain": [
              "[3,\n",
              " 8,\n",
              " 8,\n",
              " 0,\n",
              " 4,\n",
              " 6,\n",
              " 1,\n",
              " 6,\n",
              " 3,\n",
              " 1,\n",
              " 0,\n",
              " 9,\n",
              " 3,\n",
              " 7,\n",
              " 9,\n",
              " 6,\n",
              " 5,\n",
              " 5,\n",
              " 8,\n",
              " 6,\n",
              " 7,\n",
              " 2,\n",
              " 4,\n",
              " 9,\n",
              " 4,\n",
              " 2,\n",
              " 4,\n",
              " 0,\n",
              " 9,\n",
              " 6,\n",
              " 6,\n",
              " 5,\n",
              " 4,\n",
              " 3,\n",
              " 9,\n",
              " 9,\n",
              " 4,\n",
              " 9,\n",
              " 9,\n",
              " 5,\n",
              " 0,\n",
              " 6,\n",
              " 5,\n",
              " 6,\n",
              " 0,\n",
              " 9,\n",
              " 3,\n",
              " 7,\n",
              " 4,\n",
              " 6,\n",
              " 7,\n",
              " 8,\n",
              " 6,\n",
              " 3,\n",
              " 8,\n",
              " 8,\n",
              " 7,\n",
              " 3,\n",
              " 5,\n",
              " 3,\n",
              " 7,\n",
              " 3,\n",
              " 6,\n",
              " 0,\n",
              " 6,\n",
              " 2,\n",
              " 1,\n",
              " 2,\n",
              " 5,\n",
              " 7,\n",
              " 4,\n",
              " 6,\n",
              " 8,\n",
              " 8,\n",
              " 9,\n",
              " 2,\n",
              " 0,\n",
              " 3,\n",
              " 3,\n",
              " 8,\n",
              " 8,\n",
              " 1,\n",
              " 1,\n",
              " 7,\n",
              " 2,\n",
              " 7,\n",
              " 2,\n",
              " 0,\n",
              " 9,\n",
              " 9,\n",
              " 0,\n",
              " 6,\n",
              " 8,\n",
              " 6,\n",
              " 4,\n",
              " 6,\n",
              " 6,\n",
              " 0,\n",
              " 2,\n",
              " 3,\n",
              " 4,\n",
              " 5,\n",
              " 6,\n",
              " 6,\n",
              " 1,\n",
              " 1,\n",
              " 2,\n",
              " 6,\n",
              " 3,\n",
              " 5,\n",
              " 4,\n",
              " 0,\n",
              " 2,\n",
              " 2,\n",
              " 9,\n",
              " 5,\n",
              " 0,\n",
              " 4,\n",
              " 6,\n",
              " 5,\n",
              " 8,\n",
              " 2,\n",
              " 6,\n",
              " 2,\n",
              " 8,\n",
              " 0,\n",
              " 8,\n",
              " 5,\n",
              " 6,\n",
              " 0,\n",
              " 4,\n",
              " 9,\n",
              " 8,\n",
              " 9,\n",
              " 1,\n",
              " 2,\n",
              " 9,\n",
              " 7,\n",
              " 2,\n",
              " 0,\n",
              " 6,\n",
              " 5,\n",
              " 6,\n",
              " 5,\n",
              " 8,\n",
              " 7,\n",
              " 6,\n",
              " 5,\n",
              " 5,\n",
              " 5,\n",
              " 8,\n",
              " 9,\n",
              " 6,\n",
              " 0,\n",
              " 0,\n",
              " 6,\n",
              " 6,\n",
              " 9,\n",
              " 3,\n",
              " 4,\n",
              " 3,\n",
              " 1,\n",
              " 6,\n",
              " 6,\n",
              " 0,\n",
              " 7,\n",
              " 8,\n",
              " 6,\n",
              " 9,\n",
              " 0,\n",
              " 9,\n",
              " 9,\n",
              " 9,\n",
              " 8,\n",
              " 9,\n",
              " 9,\n",
              " 3,\n",
              " 7,\n",
              " 5,\n",
              " 9,\n",
              " 0,\n",
              " 5,\n",
              " 6,\n",
              " 2,\n",
              " 4,\n",
              " 8,\n",
              " 6,\n",
              " 2,\n",
              " 3,\n",
              " 0,\n",
              " 6,\n",
              " 3,\n",
              " 0,\n",
              " 9,\n",
              " 7,\n",
              " 4,\n",
              " 8,\n",
              " 3,\n",
              " 2,\n",
              " 8,\n",
              " 5,\n",
              " 9,\n",
              " 8,\n",
              " 7,\n",
              " 1,\n",
              " 5,\n",
              " 8,\n",
              " 4,\n",
              " 7,\n",
              " 9,\n",
              " 6,\n",
              " 9,\n",
              " 5,\n",
              " 9,\n",
              " 0,\n",
              " 2,\n",
              " 3,\n",
              " 9,\n",
              " 8,\n",
              " 4,\n",
              " 7,\n",
              " 4,\n",
              " 9,\n",
              " 4,\n",
              " 4,\n",
              " 9,\n",
              " 3,\n",
              " 2,\n",
              " 5,\n",
              " 6,\n",
              " 5,\n",
              " 9,\n",
              " 5,\n",
              " 1,\n",
              " 8,\n",
              " 0,\n",
              " 4,\n",
              " 0,\n",
              " 3,\n",
              " 5,\n",
              " 1,\n",
              " 1,\n",
              " 1,\n",
              " 9,\n",
              " 0,\n",
              " 6,\n",
              " 0,\n",
              " 8,\n",
              " 5,\n",
              " 0,\n",
              " 5,\n",
              " 3,\n",
              " 9,\n",
              " 9,\n",
              " 2,\n",
              " 0,\n",
              " 6,\n",
              " 0,\n",
              " 8,\n",
              " 1,\n",
              " 8,\n",
              " 9,\n",
              " 3,\n",
              " 3,\n",
              " 0,\n",
              " 8,\n",
              " 3,\n",
              " 4,\n",
              " 7,\n",
              " 0,\n",
              " 2,\n",
              " 4,\n",
              " 6,\n",
              " 5,\n",
              " 8,\n",
              " 2,\n",
              " 0,\n",
              " 3,\n",
              " 4,\n",
              " 5,\n",
              " 9,\n",
              " 0,\n",
              " 6,\n",
              " 1,\n",
              " 9,\n",
              " 9,\n",
              " 1,\n",
              " 8,\n",
              " 7,\n",
              " 9,\n",
              " 1,\n",
              " 2,\n",
              " 6,\n",
              " 1,\n",
              " 3,\n",
              " 2,\n",
              " 6,\n",
              " 0,\n",
              " 0,\n",
              " 6,\n",
              " 6,\n",
              " 6,\n",
              " 4,\n",
              " 3,\n",
              " 6,\n",
              " 1,\n",
              " 9,\n",
              " 2,\n",
              " 9,\n",
              " 4,\n",
              " 8,\n",
              " 6,\n",
              " 8,\n",
              " 0,\n",
              " 4,\n",
              " 0,\n",
              " 7,\n",
              " 5,\n",
              " 5,\n",
              " 5,\n",
              " 3,\n",
              " 3,\n",
              " 2,\n",
              " 2,\n",
              " 5,\n",
              " 6,\n",
              " 7,\n",
              " 3,\n",
              " 4,\n",
              " 6,\n",
              " 1,\n",
              " 9,\n",
              " 4,\n",
              " 6,\n",
              " 6,\n",
              " 9,\n",
              " 6,\n",
              " 8,\n",
              " 0,\n",
              " 7,\n",
              " 4,\n",
              " 6,\n",
              " 0,\n",
              " 7,\n",
              " 0,\n",
              " 5,\n",
              " 7,\n",
              " 6,\n",
              " 8,\n",
              " 9,\n",
              " 9,\n",
              " 9,\n",
              " 8,\n",
              " 2,\n",
              " 6,\n",
              " 7,\n",
              " 2,\n",
              " 2,\n",
              " 1,\n",
              " 0,\n",
              " 9,\n",
              " 5,\n",
              " 8,\n",
              " 0,\n",
              " 9,\n",
              " 4,\n",
              " 0,\n",
              " 0,\n",
              " 0,\n",
              " 1,\n",
              " 2,\n",
              " 7,\n",
              " 9,\n",
              " 4,\n",
              " 2,\n",
              " 7,\n",
              " 4,\n",
              " 4,\n",
              " 8,\n",
              " 6,\n",
              " 6,\n",
              " 9,\n",
              " 0,\n",
              " 0,\n",
              " 5,\n",
              " 0,\n",
              " 7,\n",
              " 4,\n",
              " 5,\n",
              " 5,\n",
              " 1,\n",
              " 0,\n",
              " 6,\n",
              " 2,\n",
              " 9,\n",
              " 6,\n",
              " 5,\n",
              " 3,\n",
              " 0,\n",
              " 8,\n",
              " 9,\n",
              " 0,\n",
              " 7,\n",
              " 8,\n",
              " 8,\n",
              " 4,\n",
              " 0,\n",
              " 1,\n",
              " 8,\n",
              " 2,\n",
              " 7,\n",
              " 0,\n",
              " 5,\n",
              " 6,\n",
              " 9,\n",
              " 9,\n",
              " 5,\n",
              " 7,\n",
              " 3,\n",
              " 7,\n",
              " 4,\n",
              " 4,\n",
              " 8,\n",
              " 0,\n",
              " 2,\n",
              " 9,\n",
              " 5,\n",
              " 4,\n",
              " 6,\n",
              " 6,\n",
              " 3,\n",
              " 5,\n",
              " 3,\n",
              " 4,\n",
              " 9,\n",
              " 7,\n",
              " 5,\n",
              " 2,\n",
              " 5,\n",
              " 9,\n",
              " 9,\n",
              " 4,\n",
              " 9,\n",
              " 9,\n",
              " 3,\n",
              " 4,\n",
              " 3,\n",
              " 0,\n",
              " 2,\n",
              " 2,\n",
              " 6,\n",
              " 9,\n",
              " 7,\n",
              " 4,\n",
              " 9,\n",
              " 4,\n",
              " 4,\n",
              " 5,\n",
              " 4,\n",
              " 2,\n",
              " 2,\n",
              " 6,\n",
              " 1,\n",
              " 4,\n",
              " 9,\n",
              " 4,\n",
              " 2,\n",
              " 3,\n",
              " 7,\n",
              " 8,\n",
              " 3,\n",
              " 7,\n",
              " 8,\n",
              " 0,\n",
              " 5,\n",
              " 7,\n",
              " 6,\n",
              " 0,\n",
              " 2,\n",
              " 6,\n",
              " 9,\n",
              " 6,\n",
              " 8,\n",
              " 2,\n",
              " 5,\n",
              " 9,\n",
              " 9,\n",
              " 9,\n",
              " 5,\n",
              " 0,\n",
              " 1,\n",
              " 0,\n",
              " 8,\n",
              " 1,\n",
              " 8,\n",
              " 8,\n",
              " 0,\n",
              " 2,\n",
              " 2,\n",
              " 0,\n",
              " 6,\n",
              " 6,\n",
              " 5,\n",
              " 4,\n",
              " 9,\n",
              " 4,\n",
              " 3,\n",
              " 9,\n",
              " 0,\n",
              " 4,\n",
              " 5,\n",
              " 6,\n",
              " 6,\n",
              " 1,\n",
              " 5,\n",
              " 6,\n",
              " 8,\n",
              " 9,\n",
              " 3,\n",
              " 8,\n",
              " 5,\n",
              " 7,\n",
              " 0,\n",
              " 7,\n",
              " 0,\n",
              " 3,\n",
              " 4,\n",
              " 0,\n",
              " 0,\n",
              " 6,\n",
              " 9,\n",
              " 3,\n",
              " 1,\n",
              " 3,\n",
              " 6,\n",
              " 6,\n",
              " 6,\n",
              " 6,\n",
              " 8,\n",
              " 9,\n",
              " 1,\n",
              " 4,\n",
              " 6,\n",
              " 7,\n",
              " 5,\n",
              " 9,\n",
              " 1,\n",
              " 6,\n",
              " 6,\n",
              " 5,\n",
              " 3,\n",
              " 5,\n",
              " 8,\n",
              " 5,\n",
              " 9,\n",
              " 4,\n",
              " 6,\n",
              " 4,\n",
              " 3,\n",
              " 2,\n",
              " 0,\n",
              " 7,\n",
              " 6,\n",
              " 4,\n",
              " 4,\n",
              " 5,\n",
              " 9,\n",
              " 5,\n",
              " 9,\n",
              " 4,\n",
              " 6,\n",
              " 7,\n",
              " 1,\n",
              " 8,\n",
              " 3,\n",
              " 6,\n",
              " 8,\n",
              " 8,\n",
              " 7,\n",
              " 6,\n",
              " 4,\n",
              " 0,\n",
              " 8,\n",
              " 4,\n",
              " 0,\n",
              " 9,\n",
              " 3,\n",
              " 4,\n",
              " 8,\n",
              " 9,\n",
              " 6,\n",
              " 9,\n",
              " 2,\n",
              " 6,\n",
              " 1,\n",
              " 4,\n",
              " 7,\n",
              " 5,\n",
              " 3,\n",
              " 3,\n",
              " 3,\n",
              " 5,\n",
              " 0,\n",
              " 2,\n",
              " 1,\n",
              " 6,\n",
              " 3,\n",
              " 3,\n",
              " 3,\n",
              " 9,\n",
              " 6,\n",
              " 9,\n",
              " 8,\n",
              " 8,\n",
              " 3,\n",
              " 8,\n",
              " 6,\n",
              " 6,\n",
              " 4,\n",
              " 1,\n",
              " 7,\n",
              " 7,\n",
              " 1,\n",
              " 4,\n",
              " 7,\n",
              " 9,\n",
              " 9,\n",
              " 4,\n",
              " 7,\n",
              " 9,\n",
              " 8,\n",
              " 5,\n",
              " 6,\n",
              " 8,\n",
              " 4,\n",
              " 6,\n",
              " 8,\n",
              " 4,\n",
              " 0,\n",
              " 7,\n",
              " 5,\n",
              " 6,\n",
              " 7,\n",
              " 7,\n",
              " 9,\n",
              " 9,\n",
              " 3,\n",
              " 4,\n",
              " 4,\n",
              " 5,\n",
              " 3,\n",
              " 9,\n",
              " 3,\n",
              " 6,\n",
              " 9,\n",
              " 0,\n",
              " 1,\n",
              " 1,\n",
              " 4,\n",
              " 1,\n",
              " 9,\n",
              " 4,\n",
              " 7,\n",
              " 6,\n",
              " 3,\n",
              " 0,\n",
              " 9,\n",
              " 0,\n",
              " 9,\n",
              " 2,\n",
              " 6,\n",
              " 3,\n",
              " 4,\n",
              " 6,\n",
              " 4,\n",
              " 0,\n",
              " 4,\n",
              " 9,\n",
              " 3,\n",
              " 5,\n",
              " 1,\n",
              " 6,\n",
              " 0,\n",
              " 0,\n",
              " 6,\n",
              " 4,\n",
              " 9,\n",
              " 6,\n",
              " 6,\n",
              " 6,\n",
              " 2,\n",
              " 2,\n",
              " 0,\n",
              " 4,\n",
              " 8,\n",
              " 3,\n",
              " 8,\n",
              " 2,\n",
              " 7,\n",
              " 5,\n",
              " 7,\n",
              " 0,\n",
              " 5,\n",
              " 8,\n",
              " 4,\n",
              " 6,\n",
              " 2,\n",
              " 3,\n",
              " 8,\n",
              " 8,\n",
              " 6,\n",
              " 0,\n",
              " 8,\n",
              " 7,\n",
              " 4,\n",
              " 3,\n",
              " 6,\n",
              " 8,\n",
              " 4,\n",
              " 9,\n",
              " 7,\n",
              " 0,\n",
              " 8,\n",
              " 1,\n",
              " 8,\n",
              " 0,\n",
              " 1,\n",
              " 5,\n",
              " 6,\n",
              " 5,\n",
              " 4,\n",
              " 0,\n",
              " 7,\n",
              " 9,\n",
              " 8,\n",
              " 4,\n",
              " 1,\n",
              " 4,\n",
              " 1,\n",
              " 5,\n",
              " 5,\n",
              " 4,\n",
              " 0,\n",
              " 7,\n",
              " 2,\n",
              " 7,\n",
              " 6,\n",
              " 6,\n",
              " 2,\n",
              " 3,\n",
              " 9,\n",
              " 0,\n",
              " 9,\n",
              " 9,\n",
              " 2,\n",
              " 2,\n",
              " 6,\n",
              " 8,\n",
              " 2,\n",
              " 1,\n",
              " 3,\n",
              " 2,\n",
              " 6,\n",
              " 0,\n",
              " 1,\n",
              " 2,\n",
              " 4,\n",
              " 9,\n",
              " 2,\n",
              " 4,\n",
              " 9,\n",
              " 9,\n",
              " 6,\n",
              " 6,\n",
              " 0,\n",
              " 7,\n",
              " 2,\n",
              " 6,\n",
              " 0,\n",
              " 6,\n",
              " 9,\n",
              " 1,\n",
              " 7,\n",
              " 6,\n",
              " 7,\n",
              " 8,\n",
              " 3,\n",
              " 9,\n",
              " 6,\n",
              " 8,\n",
              " 0,\n",
              " 0,\n",
              " 3,\n",
              " 5,\n",
              " 7,\n",
              " 7,\n",
              " 4,\n",
              " 4,\n",
              " 7,\n",
              " 4,\n",
              " 7,\n",
              " 1,\n",
              " 2,\n",
              " 7,\n",
              " 4,\n",
              " 4,\n",
              " 0,\n",
              " 4,\n",
              " 7,\n",
              " 4,\n",
              " 5,\n",
              " 2,\n",
              " 7,\n",
              " 2,\n",
              " 9,\n",
              " 8,\n",
              " 9,\n",
              " 3,\n",
              " 9,\n",
              " 0,\n",
              " 6,\n",
              " 2,\n",
              " 0,\n",
              " 8,\n",
              " 7,\n",
              " 4,\n",
              " 7,\n",
              " 6,\n",
              " 5,\n",
              " 3,\n",
              " 0,\n",
              " 6,\n",
              " 2,\n",
              " 5,\n",
              " 4,\n",
              " 4,\n",
              " 1,\n",
              " 2,\n",
              " 9,\n",
              " 2,\n",
              " 7,\n",
              " 0,\n",
              " 7,\n",
              " 2,\n",
              " 1,\n",
              " 3,\n",
              " 2,\n",
              " 9,\n",
              " 2,\n",
              " 4,\n",
              " 5,\n",
              " 9,\n",
              " 8,\n",
              " 1,\n",
              " 0,\n",
              " 9,\n",
              " 7,\n",
              " 0,\n",
              " 7,\n",
              " 8,\n",
              " 4,\n",
              " 6,\n",
              " 6,\n",
              " 3,\n",
              " 0,\n",
              " 1,\n",
              " 6,\n",
              " 3,\n",
              " 0,\n",
              " 9,\n",
              " 5,\n",
              " 1,\n",
              " 4,\n",
              " 8,\n",
              " 3,\n",
              " 8,\n",
              " 4,\n",
              " 5,\n",
              " 4,\n",
              " 7,\n",
              " 8,\n",
              " 4,\n",
              " 0,\n",
              " 0,\n",
              " 9,\n",
              " 0,\n",
              " 9,\n",
              " 9,\n",
              " 8,\n",
              " 4,\n",
              " 4,\n",
              " 6,\n",
              " 5,\n",
              " 5,\n",
              " 9,\n",
              " 1,\n",
              " 3,\n",
              " 7,\n",
              " 3,\n",
              " 4,\n",
              " 5,\n",
              " 6,\n",
              " 6,\n",
              " 3,\n",
              " 0,\n",
              " 4,\n",
              " 8,\n",
              " 6,\n",
              " 8,\n",
              " 8,\n",
              " 4,\n",
              " 3,\n",
              " 3,\n",
              " 4,\n",
              " 0,\n",
              " 1,\n",
              " 4,\n",
              " 8,\n",
              " 8,\n",
              " 4,\n",
              " 6,\n",
              " 9,\n",
              " 9,\n",
              " 6,\n",
              " 5,\n",
              " 5,\n",
              " 6,\n",
              " 6,\n",
              " 0,\n",
              " 0,\n",
              " 4,\n",
              " 2,\n",
              " 3,\n",
              " 3,\n",
              " 7,\n",
              " 5,\n",
              " 2,\n",
              " 5,\n",
              " 9,\n",
              " 8,\n",
              " 9,\n",
              " 9,\n",
              " 7,\n",
              " 4,\n",
              " 0,\n",
              " 3,\n",
              " 0,\n",
              " 6,\n",
              " 4,\n",
              " 8,\n",
              " 4,\n",
              " 9,\n",
              " 4,\n",
              " 0,\n",
              " 6,\n",
              " 7,\n",
              " 0,\n",
              " 6,\n",
              " 7,\n",
              " 8,\n",
              " 9,\n",
              " 1,\n",
              " 1,\n",
              " 6,\n",
              " 5,\n",
              " 3,\n",
              " 6,\n",
              " 9,\n",
              " 1,\n",
              " 9,\n",
              " 9,\n",
              " 4,\n",
              " 2,\n",
              " 1,\n",
              " 7,\n",
              " 0,\n",
              " 6,\n",
              " 8,\n",
              " 1,\n",
              " 9,\n",
              " 6,\n",
              " 9,\n",
              " 5,\n",
              " 4,\n",
              " 7,\n",
              " 0,\n",
              " 5,\n",
              " 1,\n",
              " 2,\n",
              " 0,\n",
              " 1,\n",
              " 5,\n",
              " 8,\n",
              " 3,\n",
              " 6,\n",
              " 5,\n",
              " 8,\n",
              " 1,\n",
              " 3,\n",
              " 8,\n",
              " ...]"
            ]
          },
          "metadata": {},
          "execution_count": 16
        }
      ]
    },
    {
      "cell_type": "code",
      "source": [
        "y_prediction[9] #ship in y_classes"
      ],
      "metadata": {
        "colab": {
          "base_uri": "https://localhost:8080/"
        },
        "id": "qjnjtfZLoG9v",
        "outputId": "567b7b1a-0339-475f-a24e-3dc8a5cbe056"
      },
      "execution_count": 17,
      "outputs": [
        {
          "output_type": "execute_result",
          "data": {
            "text/plain": [
              "1"
            ]
          },
          "metadata": {},
          "execution_count": 17
        }
      ]
    },
    {
      "cell_type": "code",
      "source": [
        "y_test=y_test.reshape(-1, )\n",
        "showImage(X_test, y_test, 1)"
      ],
      "metadata": {
        "colab": {
          "base_uri": "https://localhost:8080/",
          "height": 173
        },
        "id": "6qk9uqhfnXH-",
        "outputId": "024d080c-6777-4a7f-a70e-835c7cf83bd5"
      },
      "execution_count": 18,
      "outputs": [
        {
          "output_type": "display_data",
          "data": {
            "text/plain": [
              "<Figure size 1080x144 with 1 Axes>"
            ],
            "image/png": "[encoded data removed]"
          },
          "metadata": {
            "needs_background": "light"
          }
        }
      ]
    },
    {
      "cell_type": "code",
      "source": [
        "model.evaluate(X_test, y_test)"
      ],
      "metadata": {
        "colab": {
          "base_uri": "https://localhost:8080/",
          "height": 739
        },
        "id": "oi12ts1Vn8SP",
        "outputId": "04c3f994-edb6-4d5f-b19f-b4b27bf8611a"
      },
      "execution_count": 20,
      "outputs": [
        {
          "output_type": "error",
          "ename": "TypeError",
          "evalue": "ignored",
          "traceback": [
            "\u001b[0;31m---------------------------------------------------------------------------\u001b[0m",
            "\u001b[0;31mTypeError\u001b[0m                                 Traceback (most recent call last)",
            "\u001b[0;32m<ipython-input-20-acc519fcce62>\u001b[0m in \u001b[0;36m<module>\u001b[0;34m\u001b[0m\n\u001b[0;32m----> 1\u001b[0;31m \u001b[0mmodel\u001b[0m\u001b[0;34m.\u001b[0m\u001b[0mevaluate\u001b[0m\u001b[0;34m(\u001b[0m\u001b[0mX_test\u001b[0m\u001b[0;34m,\u001b[0m \u001b[0my_test\u001b[0m\u001b[0;34m)\u001b[0m\u001b[0;34m\u001b[0m\u001b[0;34m\u001b[0m\u001b[0m\n\u001b[0m",
            "\u001b[0;32m/usr/local/lib/python3.9/dist-packages/keras/utils/traceback_utils.py\u001b[0m in \u001b[0;36merror_handler\u001b[0;34m(*args, **kwargs)\u001b[0m\n\u001b[1;32m     68\u001b[0m             \u001b[0;31m# To get the full stack trace, call:\u001b[0m\u001b[0;34m\u001b[0m\u001b[0;34m\u001b[0m\u001b[0m\n\u001b[1;32m     69\u001b[0m             \u001b[0;31m# `tf.debugging.disable_traceback_filtering()`\u001b[0m\u001b[0;34m\u001b[0m\u001b[0;34m\u001b[0m\u001b[0m\n\u001b[0;32m---> 70\u001b[0;31m             \u001b[0;32mraise\u001b[0m \u001b[0me\u001b[0m\u001b[0;34m.\u001b[0m\u001b[0mwith_traceback\u001b[0m\u001b[0;34m(\u001b[0m\u001b[0mfiltered_tb\u001b[0m\u001b[0;34m)\u001b[0m \u001b[0;32mfrom\u001b[0m \u001b[0;32mNone\u001b[0m\u001b[0;34m\u001b[0m\u001b[0;34m\u001b[0m\u001b[0m\n\u001b[0m\u001b[1;32m     71\u001b[0m         \u001b[0;32mfinally\u001b[0m\u001b[0;34m:\u001b[0m\u001b[0;34m\u001b[0m\u001b[0;34m\u001b[0m\u001b[0m\n\u001b[1;32m     72\u001b[0m             \u001b[0;32mdel\u001b[0m \u001b[0mfiltered_tb\u001b[0m\u001b[0;34m\u001b[0m\u001b[0;34m\u001b[0m\u001b[0m\n",
            "\u001b[0;32m/usr/local/lib/python3.9/dist-packages/keras/engine/training.py\u001b[0m in \u001b[0;36mtf__test_function\u001b[0;34m(iterator)\u001b[0m\n\u001b[1;32m     13\u001b[0m                 \u001b[0;32mtry\u001b[0m\u001b[0;34m:\u001b[0m\u001b[0;34m\u001b[0m\u001b[0;34m\u001b[0m\u001b[0m\n\u001b[1;32m     14\u001b[0m                     \u001b[0mdo_return\u001b[0m \u001b[0;34m=\u001b[0m \u001b[0;32mTrue\u001b[0m\u001b[0;34m\u001b[0m\u001b[0;34m\u001b[0m\u001b[0m\n\u001b[0;32m---> 15\u001b[0;31m                     \u001b[0mretval_\u001b[0m \u001b[0;34m=\u001b[0m \u001b[0mag__\u001b[0m\u001b[0;34m.\u001b[0m\u001b[0mconverted_call\u001b[0m\u001b[0;34m(\u001b[0m\u001b[0mag__\u001b[0m\u001b[0;34m.\u001b[0m\u001b[0mld\u001b[0m\u001b[0;34m(\u001b[0m\u001b[0mstep_function\u001b[0m\u001b[0;34m)\u001b[0m\u001b[0;34m,\u001b[0m \u001b[0;34m(\u001b[0m\u001b[0mag__\u001b[0m\u001b[0;34m.\u001b[0m\u001b[0mld\u001b[0m\u001b[0;34m(\u001b[0m\u001b[0mself\u001b[0m\u001b[0;34m)\u001b[0m\u001b[0;34m,\u001b[0m \u001b[0mag__\u001b[0m\u001b[0;34m.\u001b[0m\u001b[0mld\u001b[0m\u001b[0;34m(\u001b[0m\u001b[0miterator\u001b[0m\u001b[0;34m)\u001b[0m\u001b[0;34m)\u001b[0m\u001b[0;34m,\u001b[0m \u001b[0;32mNone\u001b[0m\u001b[0;34m,\u001b[0m \u001b[0mfscope\u001b[0m\u001b[0;34m)\u001b[0m\u001b[0;34m\u001b[0m\u001b[0;34m\u001b[0m\u001b[0m\n\u001b[0m\u001b[1;32m     16\u001b[0m                 \u001b[0;32mexcept\u001b[0m\u001b[0;34m:\u001b[0m\u001b[0;34m\u001b[0m\u001b[0;34m\u001b[0m\u001b[0m\n\u001b[1;32m     17\u001b[0m                     \u001b[0mdo_return\u001b[0m \u001b[0;34m=\u001b[0m \u001b[0;32mFalse\u001b[0m\u001b[0;34m\u001b[0m\u001b[0;34m\u001b[0m\u001b[0m\n",
            "\u001b[0;31mTypeError\u001b[0m: in user code:\n\n    File \"/usr/local/lib/python3.9/dist-packages/keras/engine/training.py\", line 1820, in test_function  *\n        return step_function(self, iterator)\n    File \"/usr/local/lib/python3.9/dist-packages/keras/engine/training.py\", line 1804, in step_function  **\n        outputs = model.distribute_strategy.run(run_step, args=(data,))\n    File \"/usr/local/lib/python3.9/dist-packages/keras/engine/training.py\", line 1792, in run_step  **\n        outputs = model.test_step(data)\n    File \"/usr/local/lib/python3.9/dist-packages/keras/engine/training.py\", line 1759, in test_step\n        return self.compute_metrics(x, y, y_pred, sample_weight)\n    File \"/usr/local/lib/python3.9/dist-packages/keras/engine/training.py\", line 1122, in compute_metrics\n        self.compiled_metrics.update_state(y, y_pred, sample_weight)\n    File \"/usr/local/lib/python3.9/dist-packages/keras/engine/compile_utils.py\", line 605, in update_state\n        metric_obj.update_state(y_t, y_p, sample_weight=mask)\n    File \"/usr/local/lib/python3.9/dist-packages/keras/utils/metrics_utils.py\", line 77, in decorated\n        update_op = update_state_fn(*args, **kwargs)\n    File \"/usr/local/lib/python3.9/dist-packages/keras/metrics/base_metric.py\", line 140, in update_state_fn\n        return ag_update_state(*args, **kwargs)\n    File \"/usr/local/lib/python3.9/dist-packages/keras/metrics/base_metric.py\", line 691, in update_state  **\n        matches = ag_fn(y_true, y_pred, **self._fn_kwargs)\n    File \"/usr/local/lib/python3.9/dist-packages/keras/metrics/metrics.py\", line 3672, in sparse_categorical_accuracy\n        if matches.shape.ndims > 1 and matches.shape[-1] == 1:\n\n    TypeError: '>' not supported between instances of 'NoneType' and 'int'\n"
          ]
        }
      ]
    },
    {
      "cell_type": "code",
      "source": [
        "from sklearn.metrics import classification_report\n",
        "print(classification_report(y_test, y_prediction))"
      ],
      "metadata": {
        "id": "1PGBXcI8oZqf",
        "colab": {
          "base_uri": "https://localhost:8080/"
        },
        "outputId": "e688dedd-36bd-4fc3-e4ae-81e6e191ba36"
      },
      "execution_count": null,
      "outputs": [
        {
          "output_type": "stream",
          "name": "stdout",
          "text": [
            "              precision    recall  f1-score   support\n",
            "\n",
            "           0       0.71      0.72      0.72      1000\n",
            "           1       0.76      0.85      0.80      1000\n",
            "           2       0.60      0.51      0.55      1000\n",
            "           3       0.49      0.47      0.48      1000\n",
            "           4       0.66      0.60      0.63      1000\n",
            "           5       0.59      0.60      0.60      1000\n",
            "           6       0.80      0.73      0.76      1000\n",
            "           7       0.63      0.83      0.72      1000\n",
            "           8       0.72      0.83      0.77      1000\n",
            "           9       0.87      0.66      0.75      1000\n",
            "\n",
            "    accuracy                           0.68     10000\n",
            "   macro avg       0.68      0.68      0.68     10000\n",
            "weighted avg       0.68      0.68      0.68     10000\n",
            "\n"
          ]
        }
      ]
    },
    {
      "cell_type": "code",
      "source": [
        "from sklearn.metrics import confusion_matrix\n",
        "cm=confusion_matrix(y_test, y_prediction)\n",
        "print(cm)"
      ],
      "metadata": {
        "colab": {
          "base_uri": "https://localhost:8080/"
        },
        "id": "YDCcpItSbIM7",
        "outputId": "4eb707f2-c1de-4dd4-81af-6ca26b65ea4c"
      },
      "execution_count": null,
      "outputs": [
        {
          "output_type": "stream",
          "name": "stdout",
          "text": [
            "[[721  25  47  26   9   5   2  29 118  18]\n",
            " [ 20 847   8  10   3   6   8   8  42  48]\n",
            " [ 73  10 506  79  99  80  48  78  24   3]\n",
            " [ 23  16  78 471  68 179  52  71  34   8]\n",
            " [ 22   6  63  63 599  37  42 146  20   2]\n",
            " [ 16   4  51 162  42 600  18  90  13   4]\n",
            " [  7   8  46  89  45  36 731  24  11   3]\n",
            " [ 11   1  25  27  36  52   4 834   6   4]\n",
            " [ 78  39   8  10   7   6   1  17 828   6]\n",
            " [ 39 159  11  17   4  11   6  34  57 662]]\n"
          ]
        }
      ]
    },
    {
      "cell_type": "code",
      "source": [
        "import seaborn as sns\n",
        "\n",
        "plt.figure(figsize=(14, 7))\n",
        "sns.heatmap(cm, annot=True)\n",
        "plt.ylabel(\"Truth values\")\n",
        "plt.xlabel(\"predictions\")\n",
        "plt.title(\"confusion matrix\")\n",
        "plt.show()"
      ],
      "metadata": {
        "colab": {
          "base_uri": "https://localhost:8080/",
          "height": 458
        },
        "id": "AO2xhj5Qbfyw",
        "outputId": "4d3f741d-cccd-465e-cbb7-26eb6c7a01d4"
      },
      "execution_count": null,
      "outputs": [
        {
          "output_type": "display_data",
          "data": {
            "text/plain": [
              "<Figure size 1008x504 with 2 Axes>"
            ],
            "image/png": "[encoded data removed]"
          },
          "metadata": {
            "needs_background": "light"
          }
        }
      ]
    }
  ]
}